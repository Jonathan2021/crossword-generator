{
 "cells": [
  {
   "cell_type": "code",
   "execution_count": 27,
   "metadata": {},
   "outputs": [],
   "source": [
    "import pandas as pd\n",
    "import numpy as np\n",
    "from random import randrange\n",
    "        \n",
    "def get_words(data_path):\n",
    "    df = pd.read_csv(data_path, encoding=\"cp1252\")\n",
    "    words = df[\"Word\"].to_list()\n",
    "    return words\n",
    "\n",
    "class Grid:\n",
    "    \n",
    "    shapes = [\n",
    "                    [(0,0)], \n",
    "                    [(0,0),(1,0)],\n",
    "                    [(0,0),(0,1)],\n",
    "                    [(0,0),(1,0),(2,0)],\n",
    "                    [(0,0),(0,1),(0,2)],\n",
    "                    [(0,0),(1,0),(2,0),(3,0)], \n",
    "                    [(1,0),(0,0),(2,0),(3,0)],\n",
    "                    [(0,0),(1,0),(1,1),(2,0)],\n",
    "                    [(0,0),(0,1),(0,2),(0,3)]\n",
    "    ]    \n",
    "    \n",
    "    def random(self, size):\n",
    "        x = size\n",
    "        y = int(size/2)\n",
    "\n",
    "        grid = np.chararray((y, x), itemsize=1)\n",
    "        grid[:] = 0\n",
    "\n",
    "        for i in range(3):\n",
    "\n",
    "            shape = shapes[randrange(len(shapes))]\n",
    "            start_x = randrange(x)\n",
    "            start_y = randrange(y)\n",
    "\n",
    "            for field in shape:  \n",
    "                field_x = start_x + field[0]\n",
    "                field_y = start_y + field[1]\n",
    "\n",
    "                if field_x < x and field_y < y:\n",
    "                    grid[field_y, field_x] = 1 \n",
    "\n",
    "        grid = np.concatenate((grid, np.flip(grid)))\n",
    "\n",
    "        return grid\n",
    "    \n",
    "    def small(self):\n",
    "        \n",
    "        grid = np.chararray((5,5), itemsize=1)\n",
    "        grid[:] = 0\n",
    "        \n",
    "        grid[0,0] = 1\n",
    "        grid[0,1] = 1\n",
    "        grid[1,0] = 1\n",
    "        \n",
    "        grid[4,3] = 1\n",
    "        grid[3,4] = 1\n",
    "        grid[4,4] = 1\n",
    "        \n",
    "        return grid        "
   ]
  },
  {
   "cell_type": "code",
   "execution_count": 28,
   "metadata": {},
   "outputs": [],
   "source": [
    "words = get_words(\"nytcrosswords.csv\")"
   ]
  },
  {
   "cell_type": "code",
   "execution_count": 29,
   "metadata": {},
   "outputs": [],
   "source": [
    "grid = Grid()"
   ]
  },
  {
   "cell_type": "code",
   "execution_count": 30,
   "metadata": {},
   "outputs": [],
   "source": [
    "grid = grid.small()"
   ]
  },
  {
   "cell_type": "code",
   "execution_count": 31,
   "metadata": {},
   "outputs": [
    {
     "data": {
      "text/plain": [
       "chararray([[b'1', b'1', b'0', b'0', b'0'],\n",
       "           [b'1', b'0', b'0', b'0', b'0'],\n",
       "           [b'0', b'0', b'0', b'0', b'0'],\n",
       "           [b'0', b'0', b'0', b'0', b'1'],\n",
       "           [b'0', b'0', b'0', b'1', b'1']], dtype='|S1')"
      ]
     },
     "execution_count": 31,
     "metadata": {},
     "output_type": "execute_result"
    }
   ],
   "source": [
    "grid"
   ]
  },
  {
   "cell_type": "code",
   "execution_count": null,
   "metadata": {},
   "outputs": [],
   "source": []
  }
 ],
 "metadata": {
  "kernelspec": {
   "display_name": "Python 3",
   "language": "python",
   "name": "python3"
  },
  "language_info": {
   "codemirror_mode": {
    "name": "ipython",
    "version": 3
   },
   "file_extension": ".py",
   "mimetype": "text/x-python",
   "name": "python",
   "nbconvert_exporter": "python",
   "pygments_lexer": "ipython3",
   "version": "3.7.4"
  }
 },
 "nbformat": 4,
 "nbformat_minor": 4
}
